{
 "cells": [
  {
   "cell_type": "markdown",
   "metadata": {},
   "source": [
    "### Assignement 2\n",
    "Name: Zheming Kang; uid: 3036195746"
   ]
  },
  {
   "cell_type": "markdown",
   "metadata": {},
   "source": [
    "### Task1: Index development"
   ]
  },
  {
   "cell_type": "code",
   "execution_count": 86,
   "metadata": {},
   "outputs": [
    {
     "name": "stdout",
     "output_type": "stream",
     "text": [
      "               x           y     id\n",
      "0      39.856138  116.423940      1\n",
      "1      39.813336  116.486149      2\n",
      "2      39.999318  116.340329      3\n",
      "3      39.925426  116.407166      4\n",
      "4      40.089314  116.439558      5\n",
      "...          ...         ...    ...\n",
      "51965  39.882149  116.315335  51966\n",
      "51966  39.965801  116.659559  51967\n",
      "51967  39.865790  116.403969  51968\n",
      "51968  39.935663  116.396346  51969\n",
      "51969  39.932615  116.435572  51970\n",
      "\n",
      "[51970 rows x 3 columns]\n"
     ]
    }
   ],
   "source": [
    "# Load the files and add index column\n",
    "import pandas as pd\n",
    "filename = \"Beijing_restaurants.txt\"\n",
    "data = pd.read_csv(filename, header = None, skiprows = 1, delimiter=\" \", names = [\"x\", \"y\"])\n",
    "\n",
    "data[\"id\"] = range(1, len(data)+1)\n",
    "print(data)"
   ]
  },
  {
   "cell_type": "code",
   "execution_count": 87,
   "metadata": {},
   "outputs": [
    {
     "name": "stdout",
     "output_type": "stream",
     "text": [
      "x min is:  39.68009\n",
      "x max is:  40.179911\n",
      "y min is:  116.070466\n",
      "y max is:  116.719976\n"
     ]
    }
   ],
   "source": [
    "# Calculate min max values\n",
    "x_min = data[\"x\"].min()\n",
    "x_max = data[\"x\"].max()\n",
    "\n",
    "y_min = data[\"y\"].min()\n",
    "y_max = data[\"y\"].max()\n",
    "\n",
    "print(\"x min is: \", x_min)\n",
    "print(\"x max is: \", x_max)\n",
    "print(\"y min is: \", y_min)\n",
    "print(\"y max is: \", y_max)"
   ]
  },
  {
   "cell_type": "code",
   "execution_count": 88,
   "metadata": {},
   "outputs": [
    {
     "name": "stdout",
     "output_type": "stream",
     "text": [
      "x interval is:  0.04998209999999972\n",
      "y interval is:  0.06495100000000065\n"
     ]
    }
   ],
   "source": [
    "# Calculate the interval\n",
    "x_interval = (x_max - x_min) / 10\n",
    "y_interval = (y_max - y_min) / 10\n",
    "print(\"x interval is: \", x_interval)\n",
    "print(\"y interval is: \", y_interval)"
   ]
  },
  {
   "cell_type": "code",
   "execution_count": 89,
   "metadata": {},
   "outputs": [],
   "source": [
    "# Assign point to grid\n",
    "data[\"x_grid\"] = (data[\"x\"] - x_min) // x_interval\n",
    "data[\"y_grid\"] = (data[\"y\"] - y_min) // y_interval\n",
    "data[\"x_grid\"] = data[\"x_grid\"].clip(0, 9)\n",
    "data[\"y_grid\"] = data[\"y_grid\"].clip(0, 9)\n",
    "# Convert to integer   \n",
    "data[\"x_grid\"] = data[\"x_grid\"].astype(int)\n",
    "data[\"y_grid\"] = data[\"y_grid\"].astype(int)\n"
   ]
  },
  {
   "cell_type": "code",
   "execution_count": 90,
   "metadata": {},
   "outputs": [
    {
     "name": "stdout",
     "output_type": "stream",
     "text": [
      "               x           y     id  x_grid  y_grid\n",
      "0      39.729270  116.119278     56       0       0\n",
      "1      39.729398  116.128704    573       0       0\n",
      "2      39.723127  116.121828   1253       0       0\n",
      "3      39.729585  116.127883   1372       0       0\n",
      "4      39.729571  116.128738   1395       0       0\n",
      "...          ...         ...    ...     ...     ...\n",
      "51965  40.137399  116.660384  43673       9       9\n",
      "51966  40.132776  116.657197  43799       9       9\n",
      "51967  40.130205  116.669393  44767       9       9\n",
      "51968  40.136146  116.656784  45984       9       9\n",
      "51969  40.135022  116.662107  47573       9       9\n",
      "\n",
      "[51970 rows x 5 columns]\n"
     ]
    }
   ],
   "source": [
    "# Sort the datapoints by grid\n",
    "data = data.sort_values(by=[\"x_grid\", \"y_grid\"]).reset_index(drop=True)\n",
    "print(data)\n"
   ]
  },
  {
   "cell_type": "code",
   "execution_count": 91,
   "metadata": {},
   "outputs": [],
   "source": [
    "# Store the grid information into grid.grd file\n",
    "grid_file = open(\"grid.grd\", \"w\")\n",
    "for point in data.itertuples():\n",
    "    x_str = \"{:.6f}\".format(point.x)  # 保留 6 位小数\n",
    "    y_str = \"{:.6f}\".format(point.y)  # 保留 6 位小数\n",
    "    grid_file.write(str(point.id) + \" \" + x_str + \" \" + y_str + \"\\n\")"
   ]
  },
  {
   "cell_type": "code",
   "execution_count": 92,
   "metadata": {},
   "outputs": [
    {
     "name": "stdout",
     "output_type": "stream",
     "text": [
      "    x_grid  y_grid  count\n",
      "0        0       0    108\n",
      "1        0       1    179\n",
      "2        0       2     20\n",
      "3        0       3    117\n",
      "4        0       4    356\n",
      "..     ...     ...    ...\n",
      "93       9       5    130\n",
      "94       9       6     74\n",
      "95       9       7     69\n",
      "96       9       8    148\n",
      "97       9       9     28\n",
      "\n",
      "[98 rows x 3 columns]\n"
     ]
    }
   ],
   "source": [
    "# Count the number of points in each grid\n",
    "grid_count = data.groupby([\"x_grid\", \"y_grid\"]).size().reset_index(name=\"count\")\n",
    "print(grid_count)"
   ]
  },
  {
   "cell_type": "code",
   "execution_count": 93,
   "metadata": {},
   "outputs": [],
   "source": [
    "# Define a function that can compute the offset in the grid.grd file\n",
    "# Parameters: file_path: the file path of the grid.grd file\n",
    "#             n: the line number\n",
    "def get_line_offset(file_path, n):\n",
    "    with open(file_path, 'r') as file:\n",
    "        offset = 0\n",
    "        line_number = 0\n",
    "        for line in file:\n",
    "            if line_number == n:\n",
    "                return offset\n",
    "            offset += len(line)\n",
    "            line_number += 1\n",
    "    return -1 "
   ]
  },
  {
   "cell_type": "code",
   "execution_count": 94,
   "metadata": {},
   "outputs": [
    {
     "name": "stdout",
     "output_type": "stream",
     "text": [
      "[0, 2894, 7688, 8226, 11368, 20915, 23352, 24907, 25393, 27612, 38826, 41643, 50004, 70305, 76720, 79055, 87547, 88563, 88748, 89042, 96795, 99639, 112137, 131472, 151539, 168964, 175648, 177176, 177628, 177789, 182011, 195518, 244359, 298950, 360859, 395500, 404847, 410154, 417839, 421002, 433829, 461389, 508543, 614771, 731546, 770605, 788900, 797622, 813912, 824793, 829850, 846128, 899422, 983825, 1070669, 1115355, 1127657, 1130209, 1131976, 1132246, 1133531, 1140280, 1163957, 1192674, 1224366, 1248929, 1251663, 1255548, 1256540, 1257721, 1261453, 1270742, 1279180, 1292885, 1300839, 1303015, 1311310, 1319940, 1321304, 1322460, 1323748, 1329163, 1338592, 1341980, 1350208, 1352086, 1356727, 1363292, 1367043, 1367177, 1370443, 1373540, 1377363, 1380038, 1383521, 1385504, 1387356, 1391335, -1]\n"
     ]
    }
   ],
   "source": [
    "# Get the offset of each grid in the grid.grd file\n",
    "offsets = [0]\n",
    "index = 0\n",
    "for point in grid_count.itertuples():\n",
    "    index += grid_count[\"count\"][point.Index]\n",
    "    # print(index)\n",
    "    offsets.append(get_line_offset(\"grid.grd\", index))\n",
    "print(offsets)"
   ]
  },
  {
   "cell_type": "code",
   "execution_count": 95,
   "metadata": {},
   "outputs": [],
   "source": [
    "# Store the grid_count information in grid.dir file\n",
    "grid_dir = open(\"grid.dir\", \"w\")\n",
    "grid_dir.write(str(x_min) + \" \" + str(x_max) + \" \" + str(y_min) + \" \" + str(y_max) + \"\\n\")\n",
    "i = 0\n",
    "for grid in grid_count.itertuples():\n",
    "    grid_dir.write(str(grid.x_grid) + \" \" + str(grid.y_grid) + \" \"+str(offsets[i]) +\" \"+ str(grid.count) + \"\\n\")\n",
    "    i += 1"
   ]
  },
  {
   "cell_type": "markdown",
   "metadata": {},
   "source": [
    "### Task 2: range selection queries"
   ]
  },
  {
   "cell_type": "code",
   "execution_count": 96,
   "metadata": {},
   "outputs": [],
   "source": [
    "# Task 2: Range Selection Queries\n",
    "def range_selection(x_low, x_high, y_low, y_high, grid_dir, grid_grd):\n",
    "    result = []\n",
    "    with open(grid_dir, \"r\") as file:\n",
    "        firstline = file.readline()  \n",
    "        x_min, x_max, y_min, y_max = firstline.split()\n",
    "        x_max = float(x_max)\n",
    "        x_min = float(x_min)\n",
    "        y_max = float(y_max)\n",
    "        y_min = float(y_min)\n",
    "        x_interval = (x_max - x_min) / 10\n",
    "        y_interval = (y_max - y_min) / 10\n",
    "        # print(\"xmin = \", x_min, \"xmax = \", x_max, \"ymin = \", y_min, \"ymax = \", y_max, \"x_interval = \", x_interval, \"y_interval = \", y_interval)\n",
    "        previous_cnt = 0\n",
    "        for line in file:\n",
    "            x, y, offset, count = line.split()\n",
    "            x = int(x)\n",
    "            y = int(y)\n",
    "            offset = int(offset)\n",
    "            count = int(count)\n",
    "            # If the grid is entirely within the range\n",
    "            # print(\"x = \", x, \"x*x_interval+x_min = \", x*x_interval+x_min, \"y = \", y, \"y*y_interval+y_min = \", y*y_interval+y_min)\n",
    "            if x_low <= x*x_interval+x_min and x*x_interval+x_min+x_interval<=x_high and y_low <= y*y_interval+y_min and y*y_interval+y_min+y_interval<=y_high:\n",
    "                with open(grid_grd, \"r\") as file:\n",
    "                    file.seek(offset+previous_cnt)\n",
    "                    for i in range(count):\n",
    "                        line = file.readline()\n",
    "                        # print(\"Case1, \", line)\n",
    "                        id, x, y = line.split()\n",
    "                        x = float(x)\n",
    "                        y = float(y)\n",
    "                        result.append([x, y])\n",
    "            # If the grid is partially within the range\n",
    "            elif x_low <= x*x_interval+x_min<=x_high or x_low <= x*x_interval+x_min+x_interval<=x_high or y_low <= y*y_interval+y_min<=y_high or y_low <= y*y_interval+y_min+y_interval<=y_high:\n",
    "                with open(grid_grd, \"r\") as file:\n",
    "                    file.seek(offset+previous_cnt)\n",
    "                    for i in range(count):\n",
    "                        line = file.readline()\n",
    "                        # print(\"Case2, \", line)\n",
    "                        id, x, y = line.split()\n",
    "                        x = float(x)\n",
    "                        y = float(y)\n",
    "                        if x_low <= x <= x_high and y_low <= y <= y_high:\n",
    "                            # result.append(line)\n",
    "                            result.append([x, y])\n",
    "            previous_cnt += count\n",
    "\n",
    "            \n",
    "    return result"
   ]
  },
  {
   "cell_type": "code",
   "execution_count": null,
   "metadata": {},
   "outputs": [],
   "source": [
    "import argparse\n",
    "\n",
    "# 创建命令行参数解析器\n",
    "parser = argparse.ArgumentParser(description='Range Selection Queries')\n",
    "\n",
    "# 添加命令行参数\n",
    "parser.add_argument('x_low', type=float, help='x_low value')\n",
    "parser.add_argument('x_high', type=float, help='x_high value')\n",
    "parser.add_argument('y_low', type=float, help='y_low value')\n",
    "parser.add_argument('y_high', type=float, help='y_high value')\n",
    "parser.add_argument('grid_dir', type=str, help='grid_dir value')\n",
    "parser.add_argument('grid_grd', type=str, help='grid_grd value')\n",
    "\n",
    "# 解析命令行参数\n",
    "args = parser.parse_args()\n",
    "\n",
    "# 使用参数调用函数\n",
    "result = range_selection(args.x_low, args.x_high, args.y_low, args.y_high, args.grid_dir, args.grid_grd)\n",
    "\n",
    "# 打印结果\n",
    "print(len(result))"
   ]
  },
  {
   "cell_type": "code",
   "execution_count": 97,
   "metadata": {},
   "outputs": [
    {
     "name": "stdout",
     "output_type": "stream",
     "text": [
      "51970\n"
     ]
    }
   ],
   "source": [
    "result = range_selection(x_min, x_max, y_min, y_max, \"grid.dir\", \"grid.grd\")\n",
    "print(len(result))"
   ]
  },
  {
   "cell_type": "code",
   "execution_count": 98,
   "metadata": {},
   "outputs": [
    {
     "name": "stdout",
     "output_type": "stream",
     "text": [
      "777\n"
     ]
    }
   ],
   "source": [
    "# Check the correctness\n",
    "# Set x_low = 39.70, x_high = 39.80, y_low = 116.13, y_high = 116.26\n",
    "result = range_selection(39.70, 39.80, 116.13, 116.26, \"grid.dir\", \"grid.grd\")\n",
    "print(len(result))\n",
    "\n"
   ]
  },
  {
   "cell_type": "code",
   "execution_count": 99,
   "metadata": {},
   "outputs": [],
   "source": [
    "# Conver result to dataframe\n",
    "# result = pd.DataFrame(result, columns=[\"x\", \"y\"])\n",
    "# # sort the result by x and y\n",
    "# result = result.sort_values(by=[\"x\", \"y\"]).reset_index(drop=True)\n",
    "# print(result)"
   ]
  },
  {
   "cell_type": "code",
   "execution_count": 100,
   "metadata": {},
   "outputs": [
    {
     "name": "stdout",
     "output_type": "stream",
     "text": [
      "777\n"
     ]
    }
   ],
   "source": [
    "# Count the number of points in the range from Beijing_restaurants.txt\n",
    "count = 0\n",
    "result = []\n",
    "# Read the file\n",
    "with open(\"Beijing_restaurants.txt\", \"r\") as file:\n",
    "    # skip line 1\n",
    "    file.readline()\n",
    "    for line in file:\n",
    "        x, y = line.split()\n",
    "        x = float(x)\n",
    "        y = float(y)\n",
    "        if 39.70 <= x <= 39.80 and 116.13 <= y <= 116.26:\n",
    "            count += 1\n",
    "            # result.append(line)\n",
    "print(count)\n",
    "# print(result[0:10])"
   ]
  },
  {
   "cell_type": "markdown",
   "metadata": {},
   "source": [
    "### Task 3: nearest neighbor queries"
   ]
  },
  {
   "cell_type": "code",
   "execution_count": 101,
   "metadata": {},
   "outputs": [],
   "source": [
    "# Task 3: Nearest Neighbor Queries\n",
    "# 1. Distance computation for points\n",
    "def distance_point(x1, y1, x2, y2):\n",
    "    return ((x1-x2)**2 + (y1-y2)**2)**0.5\n",
    "\n",
    "# 2. Distance computation for grids\n",
    "def distance_grid(x_point, y_point, x_grid, y_grid,x_min, y_min, x_interval, y_interval):\n",
    "    x_low = x_min+x_grid*x_interval\n",
    "    x_high = x_min+(x_grid+1)*x_interval\n",
    "    y_low = y_min+y_grid*y_interval\n",
    "    y_high = y_min+(y_grid+1)*y_interval\n",
    "    x_distance = min(abs(x_point-x_low), abs(x_point-x_high))\n",
    "    y_distance = min(abs(y_point-y_low), abs(y_point-y_high))\n",
    "    if x_low <= x_point <= x_high and y_low <= y_point <= y_high:\n",
    "        return 0\n",
    "    elif x_low <= x_point <= x_high:\n",
    "        return y_distance\n",
    "    elif y_low <= y_point <= y_high:\n",
    "        return x_distance\n",
    "    else:\n",
    "        return (x_distance**2 + y_distance**2)**0.5\n",
    "    return -1\n"
   ]
  },
  {
   "cell_type": "code",
   "execution_count": 102,
   "metadata": {},
   "outputs": [],
   "source": [
    "# 3. Nearest Neighbor Queries\n",
    "import heapq as hq\n",
    "\n",
    "# 3.1 Convert the point to grid\n",
    "def convert_to_grid(x, y, grid_dir):\n",
    "    # Read the first line and get the min and max values\n",
    "    x_grid = -1\n",
    "    y_grid = -1\n",
    "    with open(grid_dir, \"r\") as file:\n",
    "        firstline = file.readline()\n",
    "        x_min, x_max, y_min, y_max = firstline.split()\n",
    "        x_min = float(x_min)\n",
    "        x_max = float(x_max)\n",
    "        y_min = float(y_min)\n",
    "        y_max = float(y_max)\n",
    "        x_grid = (x - x_min) // x_interval\n",
    "        y_grid = (y - y_min) // y_interval\n",
    "    return x_grid, y_grid\n",
    "\n",
    "\n",
    "def nearest_neighbor(target_x, target_y, grid_dir, grid_grd):\n",
    "    pq = []\n",
    "    visited_grid = set()\n",
    "    visited_point = set()\n",
    "    gx, gy = convert_to_grid(target_x, target_y, grid_dir)\n",
    "    gx = int(gx)\n",
    "    gy = int(gy)\n",
    "    hq.heappush(pq, (0, gx, gy, True)) # pq: (distance, x, y, isGrid)\n",
    "    visited_grid.add((gx, gy))\n",
    "    while(len(pq)>0):\n",
    "        distance, x, y, isGrid = hq.heappop(pq)\n",
    "        if x==target_x and y==target_y:\n",
    "            continue # Skip the current point\n",
    "        if isGrid:# If the first element is a grid, put all the points into the queue\n",
    "            x = int(x)\n",
    "            y = int(y)\n",
    "            # First, we need to get the direction of the points by grid.dir file\n",
    "            # Skipping the first line, read the grid.dir file and convert to dataframe\n",
    "            grid_dir = pd.read_csv(\"grid.dir\", delimiter=\" \", header=None, skiprows=1, names=[\"x_grid\", \"y_grid\", \"offset\", \"count\"])\n",
    "            # Find the position of the grid in the grid.dir file\n",
    "            # grid = grid_dir[(grid_dir[\"x_grid\"]==x) & (grid_dir[\"y_grid\"]==y)]\n",
    "            grid = grid_dir[(grid_dir[\"x_grid\"] == x) & (grid_dir[\"y_grid\"] == y)]\n",
    "            # print(grid)\n",
    "            if len(grid) == 0:\n",
    "                print(\"x = \", target_x, \"y = \", target_y, \"is not in the grid\")\n",
    "                return -1\n",
    "            # Count the sum of the previous points\n",
    "            previous_cnt = grid_dir[grid_dir[\"x_grid\"]<x][\"count\"].sum()\n",
    "            previous_cnt += grid_dir[(grid_dir[\"x_grid\"]==x) & (grid_dir[\"y_grid\"]<y)][\"count\"].sum()\n",
    "            # Read the grid.grd file and get the points\n",
    "            with open(\"grid.grd\", \"r\") as file:\n",
    "                # print(len(grid[\"offset\"]))\n",
    "                offset = grid[\"offset\"].item() + previous_cnt\n",
    "                # print(\"grid[\\\"offset\\\"] is \", grid[\"offset\"].item())\n",
    "\n",
    "                # print(offset)\n",
    "                file.seek(offset)\n",
    "                for i in range(grid[\"count\"].item()):\n",
    "                    line = file.readline()\n",
    "                    id, px, py = line.split()\n",
    "                    px = float(px)\n",
    "                    py = float(py)\n",
    "                    if((px, py) not in visited_point):\n",
    "                        hq.heappush(pq, (distance_point(target_x, target_y, px, py), px, py, False))\n",
    "                        visited_point.add((px, py))\n",
    "            # Then, add all the adjecent grids into the queue\n",
    "            for i in range(-1, 2):\n",
    "                for j in range(-1, 2):\n",
    "                    if(0<=x+i<10 and 0<=y+j<10 and (x+i, y+j) not in visited_grid):\n",
    "                        hq.heappush(pq, (distance_grid(target_x, target_y, x+i, y+j, x_min, y_min, x_interval, y_interval), x+i, y+j, True))\n",
    "                        visited_grid.add((x+i, y+j))\n",
    "        else: # If the first element is a point, return the point\n",
    "            yield (x, y, distance)                  \n",
    "\n",
    "            "
   ]
  },
  {
   "cell_type": "code",
   "execution_count": 103,
   "metadata": {},
   "outputs": [
    {
     "name": "stdout",
     "output_type": "stream",
     "text": [
      "The nearest neighbor of point ( 39.856138 ,  116.42394 ) is ( 39.855923 ,  116.424059 ) in grid ( 3.0 ,  5.0 ), distance is  0.00024573563030494085\n",
      "The nearest neighbor of point ( 39.856138 ,  116.42394 ) is ( 39.856008 ,  116.42362 ) in grid ( 3.0 ,  5.0 ), distance is  0.00034539832078483794\n",
      "The nearest neighbor of point ( 39.856138 ,  116.42394 ) is ( 39.855681 ,  116.423581 ) in grid ( 3.0 ,  5.0 ), distance is  0.0005811454207048572\n"
     ]
    }
   ],
   "source": [
    "k = 3\n",
    "result = []\n",
    "x, y = 39.856138, 116.42394\n",
    "ite = nearest_neighbor(x, y, \"grid.dir\", \"grid.grd\")\n",
    "for i in range(k):\n",
    "    nn = next(ite)\n",
    "    if nn == -1:\n",
    "        break\n",
    "    result.append(nn)\n",
    "\n",
    "for i in range(len(result)):\n",
    "    gx, gy = convert_to_grid(result[i][0], result[i][1], \"grid.dir\")\n",
    "    print(\"The nearest neighbor of point (\", x, \", \", y, \") is (\", result[i][0], \", \", result[i][1], \") in grid (\", gx, \", \", gy, \"), distance is \", result[i][2])"
   ]
  },
  {
   "cell_type": "code",
   "execution_count": 104,
   "metadata": {},
   "outputs": [
    {
     "name": "stdout",
     "output_type": "stream",
     "text": [
      "The grid of point ( 39.856138 ,  116.42394 ) is ( 3.0 ,  5.0 )\n"
     ]
    }
   ],
   "source": [
    "x, y = 39.856138, 116.42394\n",
    "gx, gy = convert_to_grid(x, y, \"grid.dir\")\n",
    "print(\"The grid of point (\", x, \", \", y, \") is (\", gx, \", \", gy, \")\")"
   ]
  },
  {
   "cell_type": "code",
   "execution_count": 105,
   "metadata": {},
   "outputs": [
    {
     "name": "stdout",
     "output_type": "stream",
     "text": [
      "The grid of point ( 39.72927 ,  116.119278 ) is ( 0.0 ,  0.0 )\n",
      "The nearest neighbor of point ( 39.72927 ,  116.119278 ) is ( 39.729335 ,  116.119371 ) in grid ( 0.0 ,  0.0 ), distance is  0.00011346365057220968\n",
      "The nearest neighbor of point ( 39.72927 ,  116.119278 ) is ( 39.729336 ,  116.119371 ) in grid ( 0.0 ,  0.0 ), distance is  0.00011403946686027507\n",
      "The nearest neighbor of point ( 39.72927 ,  116.119278 ) is ( 39.72981 ,  116.11914 ) in grid ( 0.0 ,  0.0 ), distance is  0.0005573544653081311\n",
      "The nearest neighbor of point ( 39.72927 ,  116.119278 ) is ( 39.729649 ,  116.119817 ) in grid ( 0.0 ,  0.0 ), distance is  0.00065890970550254\n",
      "The nearest neighbor of point ( 39.72927 ,  116.119278 ) is ( 39.729734 ,  116.11993 ) in grid ( 0.0 ,  0.0 ), distance is  0.0008002499609521169\n",
      "The nearest neighbor of point ( 39.72927 ,  116.119278 ) is ( 39.728809 ,  116.119954 ) in grid ( 0.0 ,  0.0 ), distance is  0.0008182279633565116\n",
      "The nearest neighbor of point ( 39.72927 ,  116.119278 ) is ( 39.729806 ,  116.118442 ) in grid ( 0.0 ,  0.0 ), distance is  0.0009930720014136038\n",
      "The nearest neighbor of point ( 39.72927 ,  116.119278 ) is ( 39.730122 ,  116.11868 ) in grid ( 1.0 ,  0.0 ), distance is  0.00104091690350336\n",
      "The nearest neighbor of point ( 39.72927 ,  116.119278 ) is ( 39.729905 ,  116.118443 ) in grid ( 0.0 ,  0.0 ), distance is  0.0010490233553143687\n",
      "The nearest neighbor of point ( 39.72927 ,  116.119278 ) is ( 39.730851 ,  116.1194 ) in grid ( 1.0 ,  0.0 ), distance is  0.001585700160814211\n",
      "The nearest neighbor of point ( 39.72927 ,  116.119278 ) is ( 39.73078 ,  116.118712 ) in grid ( 1.0 ,  0.0 ), distance is  0.0016125929430580999\n",
      "The nearest neighbor of point ( 39.72927 ,  116.119278 ) is ( 39.729931 ,  116.121101 ) in grid ( 0.0 ,  0.0 ), distance is  0.0019391364057248126\n",
      "The nearest neighbor of point ( 39.72927 ,  116.119278 ) is ( 39.731313 ,  116.118717 ) in grid ( 1.0 ,  0.0 ), distance is  0.0021186245538063627\n",
      "The nearest neighbor of point ( 39.72927 ,  116.119278 ) is ( 39.729374 ,  116.121481 ) in grid ( 0.0 ,  0.0 ), distance is  0.002205453468118977\n",
      "The nearest neighbor of point ( 39.72927 ,  116.119278 ) is ( 39.729302 ,  116.12151 ) in grid ( 0.0 ,  0.0 ), distance is  0.0022322293789009745\n",
      "The nearest neighbor of point ( 39.72927 ,  116.119278 ) is ( 39.730149 ,  116.121415 ) in grid ( 1.0 ,  0.0 ), distance is  0.002310716339150265\n",
      "The nearest neighbor of point ( 39.72927 ,  116.119278 ) is ( 39.729596 ,  116.121655 ) in grid ( 0.0 ,  0.0 ), distance is  0.002399250924777888\n",
      "The nearest neighbor of point ( 39.72927 ,  116.119278 ) is ( 39.729753 ,  116.121658 ) in grid ( 0.0 ,  0.0 ), distance is  0.002428515801886697\n",
      "The nearest neighbor of point ( 39.72927 ,  116.119278 ) is ( 39.729632 ,  116.12169 ) in grid ( 0.0 ,  0.0 ), distance is  0.002439013735105736\n",
      "The nearest neighbor of point ( 39.72927 ,  116.119278 ) is ( 39.729754 ,  116.121692 ) in grid ( 0.0 ,  0.0 ), distance is  0.0024620422417189185\n",
      "The nearest neighbor of point ( 39.72927 ,  116.119278 ) is ( 39.726715 ,  116.119531 ) in grid ( 0.0 ,  0.0 ), distance is  0.00256749566698862\n",
      "The nearest neighbor of point ( 39.72927 ,  116.119278 ) is ( 39.73179 ,  116.118671 ) in grid ( 1.0 ,  0.0 ), distance is  0.002592074265905627\n",
      "The nearest neighbor of point ( 39.72927 ,  116.119278 ) is ( 39.726634 ,  116.119519 ) in grid ( 0.0 ,  0.0 ), distance is  0.0026469939554170816\n",
      "The nearest neighbor of point ( 39.72927 ,  116.119278 ) is ( 39.726566 ,  116.119509 ) in grid ( 0.0 ,  0.0 ), distance is  0.0027138491115032823\n",
      "The nearest neighbor of point ( 39.72927 ,  116.119278 ) is ( 39.726521 ,  116.119503 ) in grid ( 0.0 ,  0.0 ), distance is  0.002758192524101265\n",
      "The nearest neighbor of point ( 39.72927 ,  116.119278 ) is ( 39.726502 ,  116.119501 ) in grid ( 0.0 ,  0.0 ), distance is  0.002776968310942864\n",
      "The nearest neighbor of point ( 39.72927 ,  116.119278 ) is ( 39.726399 ,  116.119488 ) in grid ( 0.0 ,  0.0 ), distance is  0.0028786700054014764\n",
      "The nearest neighbor of point ( 39.72927 ,  116.119278 ) is ( 39.726339 ,  116.119485 ) in grid ( 0.0 ,  0.0 ), distance is  0.0029383005292144457\n",
      "The nearest neighbor of point ( 39.72927 ,  116.119278 ) is ( 39.726623 ,  116.120578 ) in grid ( 0.0 ,  0.0 ), distance is  0.0029490013563947654\n",
      "The nearest neighbor of point ( 39.72927 ,  116.119278 ) is ( 39.726186 ,  116.119472 ) in grid ( 0.0 ,  0.0 ), distance is  0.0030900957913971407\n",
      "The nearest neighbor of point ( 39.72927 ,  116.119278 ) is ( 39.726126 ,  116.119472 ) in grid ( 0.0 ,  0.0 ), distance is  0.0031499796824735527\n",
      "The nearest neighbor of point ( 39.72927 ,  116.119278 ) is ( 39.726079 ,  116.119467 ) in grid ( 0.0 ,  0.0 ), distance is  0.0031965922480055213\n",
      "The nearest neighbor of point ( 39.72927 ,  116.119278 ) is ( 39.732494 ,  116.118947 ) in grid ( 1.0 ,  0.0 ), distance is  0.0032409469295271976\n",
      "The nearest neighbor of point ( 39.72927 ,  116.119278 ) is ( 39.726344 ,  116.120691 ) in grid ( 0.0 ,  0.0 ), distance is  0.003249314543101564\n",
      "The nearest neighbor of point ( 39.72927 ,  116.119278 ) is ( 39.726636 ,  116.121273 ) in grid ( 0.0 ,  0.0 ), distance is  0.0033042368256579677\n",
      "The nearest neighbor of point ( 39.72927 ,  116.119278 ) is ( 39.727021 ,  116.12172 ) in grid ( 0.0 ,  0.0 ), distance is  0.003319844122847606\n",
      "The nearest neighbor of point ( 39.72927 ,  116.119278 ) is ( 39.72597 ,  116.119867 ) in grid ( 0.0 ,  0.0 ), distance is  0.00335215169704856\n",
      "The nearest neighbor of point ( 39.72927 ,  116.119278 ) is ( 39.732745 ,  116.118677 ) in grid ( 1.0 ,  0.0 ), distance is  0.0035265884364351846\n",
      "The nearest neighbor of point ( 39.72927 ,  116.119278 ) is ( 39.726723 ,  116.121871 ) in grid ( 0.0 ,  0.0 ), distance is  0.003634674400826385\n",
      "The nearest neighbor of point ( 39.72927 ,  116.119278 ) is ( 39.731014 ,  116.122522 ) in grid ( 1.0 ,  0.0 ), distance is  0.003683079146593011\n",
      "The nearest neighbor of point ( 39.72927 ,  116.119278 ) is ( 39.732933 ,  116.118687 ) in grid ( 1.0 ,  0.0 ), distance is  0.003710370601438969\n",
      "The nearest neighbor of point ( 39.72927 ,  116.119278 ) is ( 39.726637 ,  116.12193 ) in grid ( 0.0 ,  0.0 ), distance is  0.0037370834885079446\n",
      "The nearest neighbor of point ( 39.72927 ,  116.119278 ) is ( 39.726271 ,  116.121696 ) in grid ( 0.0 ,  0.0 ), distance is  0.0038523661560194273\n",
      "The nearest neighbor of point ( 39.72927 ,  116.119278 ) is ( 39.725393 ,  116.119477 ) in grid ( 0.0 ,  0.0 ), distance is  0.0038821038110830215\n",
      "The nearest neighbor of point ( 39.72927 ,  116.119278 ) is ( 39.730463 ,  116.115464 ) in grid ( 1.0 ,  0.0 ), distance is  0.003996228847292834\n",
      "The nearest neighbor of point ( 39.72927 ,  116.119278 ) is ( 39.731669 ,  116.122516 ) in grid ( 1.0 ,  0.0 ), distance is  0.004029869104580433\n",
      "The nearest neighbor of point ( 39.72927 ,  116.119278 ) is ( 39.729116 ,  116.123376 ) in grid ( 0.0 ,  0.0 ), distance is  0.004100892585766274\n",
      "The nearest neighbor of point ( 39.72927 ,  116.119278 ) is ( 39.726435 ,  116.116259 ) in grid ( 0.0 ,  0.0 ), distance is  0.00414144733154415\n",
      "The nearest neighbor of point ( 39.72927 ,  116.119278 ) is ( 39.726317 ,  116.122385 ) in grid ( 0.0 ,  0.0 ), distance is  0.00428645051295217\n",
      "The nearest neighbor of point ( 39.72927 ,  116.119278 ) is ( 39.726152 ,  116.116202 ) in grid ( 0.0 ,  0.0 ), distance is  0.004379920090590768\n",
      "The nearest neighbor of point ( 39.72927 ,  116.119278 ) is ( 39.728974 ,  116.123724 ) in grid ( 0.0 ,  0.0 ), distance is  0.004455842456821452\n",
      "The nearest neighbor of point ( 39.72927 ,  116.119278 ) is ( 39.733188 ,  116.12151 ) in grid ( 1.0 ,  0.0 ), distance is  0.004509162671718448\n",
      "The nearest neighbor of point ( 39.72927 ,  116.119278 ) is ( 39.727543 ,  116.123483 ) in grid ( 0.0 ,  0.0 ), distance is  0.004545828197369467\n",
      "The nearest neighbor of point ( 39.72927 ,  116.119278 ) is ( 39.728124 ,  116.123846 ) in grid ( 0.0 ,  0.0 ), distance is  0.004709558365712499\n",
      "The nearest neighbor of point ( 39.72927 ,  116.119278 ) is ( 39.727432 ,  116.123716 ) in grid ( 0.0 ,  0.0 ), distance is  0.004803549520933876\n",
      "The nearest neighbor of point ( 39.72927 ,  116.119278 ) is ( 39.730877 ,  116.124083 ) in grid ( 1.0 ,  0.0 ), distance is  0.005066603793473892\n",
      "The nearest neighbor of point ( 39.72927 ,  116.119278 ) is ( 39.724242 ,  116.119977 ) in grid ( 0.0 ,  0.0 ), distance is  0.0050763554840107\n",
      "The nearest neighbor of point ( 39.72927 ,  116.119278 ) is ( 39.729878 ,  116.114208 ) in grid ( 0.0 ,  0.0 ), distance is  0.005106325880698435\n",
      "The nearest neighbor of point ( 39.72927 ,  116.119278 ) is ( 39.7259 ,  116.115425 ) in grid ( 0.0 ,  0.0 ), distance is  0.005118838637808299\n",
      "The nearest neighbor of point ( 39.72927 ,  116.119278 ) is ( 39.73142 ,  116.123949 ) in grid ( 1.0 ,  0.0 ), distance is  0.00514205610626905\n",
      "The nearest neighbor of point ( 39.72927 ,  116.119278 ) is ( 39.726661 ,  116.123713 ) in grid ( 0.0 ,  0.0 ), distance is  0.005145493756677361\n",
      "The nearest neighbor of point ( 39.72927 ,  116.119278 ) is ( 39.730985 ,  116.124183 ) in grid ( 1.0 ,  0.0 ), distance is  0.00519617647891874\n",
      "The nearest neighbor of point ( 39.72927 ,  116.119278 ) is ( 39.731221 ,  116.124111 ) in grid ( 1.0 ,  0.0 ), distance is  0.005211937259795178\n",
      "The nearest neighbor of point ( 39.72927 ,  116.119278 ) is ( 39.73326 ,  116.123084 ) in grid ( 1.0 ,  0.0 ), distance is  0.005514139642782126\n",
      "The nearest neighbor of point ( 39.72927 ,  116.119278 ) is ( 39.731366 ,  116.124384 ) in grid ( 1.0 ,  0.0 ), distance is  0.005519461205600591\n",
      "The nearest neighbor of point ( 39.72927 ,  116.119278 ) is ( 39.725397 ,  116.123366 ) in grid ( 0.0 ,  0.0 ), distance is  0.0056313295943384665\n",
      "The nearest neighbor of point ( 39.72927 ,  116.119278 ) is ( 39.733262 ,  116.123273 ) in grid ( 1.0 ,  0.0 ), distance is  0.005647662259736897\n",
      "The nearest neighbor of point ( 39.72927 ,  116.119278 ) is ( 39.730842 ,  116.124925 ) in grid ( 1.0 ,  0.0 ), distance is  0.005861722699013224\n",
      "The nearest neighbor of point ( 39.72927 ,  116.119278 ) is ( 39.724968 ,  116.12333 ) in grid ( 0.0 ,  0.0 ), distance is  0.0059098145487007725\n",
      "The nearest neighbor of point ( 39.72927 ,  116.119278 ) is ( 39.730097 ,  116.125168 ) in grid ( 1.0 ,  0.0 ), distance is  0.005947775130256294\n",
      "The nearest neighbor of point ( 39.72927 ,  116.119278 ) is ( 39.724569 ,  116.115606 ) in grid ( 0.0 ,  0.0 ), distance is  0.005965147525412393\n",
      "The nearest neighbor of point ( 39.72927 ,  116.119278 ) is ( 39.730966 ,  116.125026 ) in grid ( 1.0 ,  0.0 ), distance is  0.005992989237445483\n",
      "The nearest neighbor of point ( 39.72927 ,  116.119278 ) is ( 39.724955 ,  116.12347 ) in grid ( 0.0 ,  0.0 ), distance is  0.0060159861203308105\n",
      "The nearest neighbor of point ( 39.72927 ,  116.119278 ) is ( 39.723931 ,  116.116488 ) in grid ( 0.0 ,  0.0 ), distance is  0.0060240369354726386\n",
      "The nearest neighbor of point ( 39.72927 ,  116.119278 ) is ( 39.724324 ,  116.115763 ) in grid ( 0.0 ,  0.0 ), distance is  0.006067795398653399\n",
      "The nearest neighbor of point ( 39.72927 ,  116.119278 ) is ( 39.723358 ,  116.120651 ) in grid ( 0.0 ,  0.0 ), distance is  0.0060693387613501935\n",
      "The nearest neighbor of point ( 39.72927 ,  116.119278 ) is ( 39.732652 ,  116.124497 ) in grid ( 1.0 ,  0.0 ), distance is  0.0062189938897001616\n",
      "The nearest neighbor of point ( 39.72927 ,  116.119278 ) is ( 39.730801 ,  116.1254 ) in grid ( 1.0 ,  0.0 ), distance is  0.006310534446467999\n",
      "The nearest neighbor of point ( 39.72927 ,  116.119278 ) is ( 39.73088 ,  116.1255 ) in grid ( 1.0 ,  0.0 ), distance is  0.006426926481616219\n",
      "The nearest neighbor of point ( 39.72927 ,  116.119278 ) is ( 39.723127 ,  116.121828 ) in grid ( 0.0 ,  0.0 ), distance is  0.006651236651932938\n",
      "The nearest neighbor of point ( 39.72927 ,  116.119278 ) is ( 39.731461 ,  116.125562 ) in grid ( 1.0 ,  0.0 ), distance is  0.006655008414729071\n",
      "The nearest neighbor of point ( 39.72927 ,  116.119278 ) is ( 39.723434 ,  116.115665 ) in grid ( 0.0 ,  0.0 ), distance is  0.0068638666216596115\n",
      "The nearest neighbor of point ( 39.72927 ,  116.119278 ) is ( 39.730981 ,  116.12594 ) in grid ( 1.0 ,  0.0 ), distance is  0.006878209432699546\n",
      "The nearest neighbor of point ( 39.72927 ,  116.119278 ) is ( 39.723436 ,  116.115482 ) in grid ( 0.0 ,  0.0 ), distance is  0.0069602566044619976\n",
      "The nearest neighbor of point ( 39.72927 ,  116.119278 ) is ( 39.723701 ,  116.123683 ) in grid ( 0.0 ,  0.0 ), distance is  0.007100548288693132\n",
      "The nearest neighbor of point ( 39.72927 ,  116.119278 ) is ( 39.723436 ,  116.114912 ) in grid ( 0.0 ,  0.0 ), distance is  0.007286803963324172\n",
      "The nearest neighbor of point ( 39.72927 ,  116.119278 ) is ( 39.730167 ,  116.126529 ) in grid ( 1.0 ,  0.0 ), distance is  0.007306271963194344\n",
      "The nearest neighbor of point ( 39.72927 ,  116.119278 ) is ( 39.724273 ,  116.113595 ) in grid ( 0.0 ,  0.0 ), distance is  0.007567463115200689\n",
      "The nearest neighbor of point ( 39.72927 ,  116.119278 ) is ( 39.723373 ,  116.124037 ) in grid ( 0.0 ,  0.0 ), distance is  0.007577776058979065\n",
      "The nearest neighbor of point ( 39.72927 ,  116.119278 ) is ( 39.72173 ,  116.1223 ) in grid ( 0.0 ,  0.0 ), distance is  0.008123058783487288\n",
      "The nearest neighbor of point ( 39.72927 ,  116.119278 ) is ( 39.729585 ,  116.127883 ) in grid ( 0.0 ,  0.0 ), distance is  0.008610763613062988\n",
      "The nearest neighbor of point ( 39.72927 ,  116.119278 ) is ( 39.72662 ,  116.127592 ) in grid ( 0.0 ,  0.0 ), distance is  0.00872611574529168\n",
      "The nearest neighbor of point ( 39.72927 ,  116.119278 ) is ( 39.727962 ,  116.127906 ) in grid ( 0.0 ,  0.0 ), distance is  0.008726582836370287\n",
      "The nearest neighbor of point ( 39.72927 ,  116.119278 ) is ( 39.729398 ,  116.128704 ) in grid ( 0.0 ,  0.0 ), distance is  0.009426869045451506\n",
      "The nearest neighbor of point ( 39.72927 ,  116.119278 ) is ( 39.729571 ,  116.128738 ) in grid ( 0.0 ,  0.0 ), distance is  0.009464787424981106\n",
      "The nearest neighbor of point ( 39.72927 ,  116.119278 ) is ( 39.729406 ,  116.128742 ) in grid ( 0.0 ,  0.0 ), distance is  0.009464977126235303\n",
      "The nearest neighbor of point ( 39.72927 ,  116.119278 ) is ( 39.72936 ,  116.128791 ) in grid ( 0.0 ,  0.0 ), distance is  0.009513425723693784\n",
      "The nearest neighbor of point ( 39.72927 ,  116.119278 ) is ( 39.729021 ,  116.129026 ) in grid ( 0.0 ,  0.0 ), distance is  0.009751179672226058\n",
      "The nearest neighbor of point ( 39.72927 ,  116.119278 ) is ( 39.727361 ,  116.128879 ) in grid ( 0.0 ,  0.0 ), distance is  0.00978894693008696\n",
      "The nearest neighbor of point ( 39.72927 ,  116.119278 ) is ( 39.727322 ,  116.128901 ) in grid ( 0.0 ,  0.0 ), distance is  0.009818188885944691\n",
      "The nearest neighbor of point ( 39.72927 ,  116.119278 ) is ( 39.722946 ,  116.127211 ) in grid ( 0.0 ,  0.0 ), distance is  0.010145218824654542\n",
      "The nearest neighbor of point ( 39.72927 ,  116.119278 ) is ( 39.7294 ,  116.129513 ) in grid ( 0.0 ,  0.0 ), distance is  0.010235825565149926\n",
      "The nearest neighbor of point ( 39.72927 ,  116.119278 ) is ( 39.730966 ,  116.12941 ) in grid ( 1.0 ,  0.0 ), distance is  0.010272966465436474\n",
      "The nearest neighbor of point ( 39.72927 ,  116.119278 ) is ( 39.72596 ,  116.1295 ) in grid ( 0.0 ,  0.0 ), distance is  0.010744551363364128\n",
      "The nearest neighbor of point ( 39.72927 ,  116.119278 ) is ( 39.723013 ,  116.128574 ) in grid ( 0.0 ,  0.0 ), distance is  0.01120560864032336\n",
      "The nearest neighbor of point ( 39.72927 ,  116.119278 ) is ( 39.735257 ,  116.12929 ) in grid ( 1.0 ,  0.0 ), distance is  0.011665518119656547\n",
      "The nearest neighbor of point ( 39.72927 ,  116.119278 ) is ( 39.717714 ,  116.121285 ) in grid ( 0.0 ,  0.0 ), distance is  0.011728989086873448\n",
      "The nearest neighbor of point ( 39.72927 ,  116.119278 ) is ( 39.73129 ,  116.131741 ) in grid ( 1.0 ,  0.0 ), distance is  0.012625639350158898\n",
      "The nearest neighbor of point ( 39.72927 ,  116.119278 ) is ( 39.729669 ,  116.132349 ) in grid ( 0.0 ,  0.0 ), distance is  0.013077088437426786\n",
      "The nearest neighbor of point ( 39.72927 ,  116.119278 ) is ( 39.742855 ,  116.121498 ) in grid ( 1.0 ,  0.0 ), distance is  0.013765196148257811\n"
     ]
    }
   ],
   "source": [
    "x, y = 39.729270, 116.119278\n",
    "gx, gy = convert_to_grid(x, y, \"grid.dir\")\n",
    "print(\"The grid of point (\", x, \", \", y, \") is (\", gx, \", \", gy, \")\")\n",
    "\n",
    "k = 110\n",
    "result = []\n",
    "ite = nearest_neighbor(x, y, \"grid.dir\", \"grid.grd\")\n",
    "for i in range(k):\n",
    "    nn = next(ite)\n",
    "    if nn == -1:\n",
    "        break\n",
    "    result.append(nn)\n",
    "\n",
    "for i in range(len(result)):\n",
    "    gx, gy = convert_to_grid(result[i][0], result[i][1], \"grid.dir\")\n",
    "    print(\"The nearest neighbor of point (\", x, \", \", y, \") is (\", result[i][0], \", \", result[i][1], \") in grid (\", gx, \", \", gy, \"), distance is \", result[i][2])"
   ]
  }
 ],
 "metadata": {
  "kernelspec": {
   "display_name": "COMP7310",
   "language": "python",
   "name": "python3"
  },
  "language_info": {
   "codemirror_mode": {
    "name": "ipython",
    "version": 3
   },
   "file_extension": ".py",
   "mimetype": "text/x-python",
   "name": "python",
   "nbconvert_exporter": "python",
   "pygments_lexer": "ipython3",
   "version": "3.8.18"
  },
  "orig_nbformat": 4
 },
 "nbformat": 4,
 "nbformat_minor": 2
}
